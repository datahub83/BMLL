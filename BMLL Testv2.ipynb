{
 "cells": [
  {
   "cell_type": "markdown",
   "id": "257b87ac-4dfd-4437-9dd6-b22fe6e7f234",
   "metadata": {},
   "source": [
    "Using the test_spread.csv.gz find the following values;\n",
    "1.\tMean Spread\n",
    "2.\tTime Weighted Average Spread\n",
    "3.\tVolume Weighted Average Spread\n",
    "4.\tVolatility of the mid price (using a sampling frequency of 1 minute)\n",
    "\n",
    "Using the test_trades.csv find the following values;\n",
    "5.\tVWAP for the day for LIT bmll_trade_type trades only\n",
    "6.\tVWAP between 14:00 - 15:00 for LIT bmll_trade_type trades only\n",
    "7.\tAverage notional per bmll_trade_type\n",
    "\n",
    "All work must be done using a Python Jupyter Lab/Notebook with results clearly identified in the code comments/notation, and in the email text.\n",
    "\n",
    "All notional values to be in Euro\n",
    "\n",
    "The test itself shouldn't take more than 2 hours, the deadline for return of completed work is Friday1200. \n"
   ]
  },
  {
   "cell_type": "code",
   "execution_count": 1,
   "id": "26cdc000-8f56-440d-99ed-8a26eccb1c9e",
   "metadata": {
    "scrolled": true
   },
   "outputs": [
    {
     "name": "stdout",
     "output_type": "stream",
     "text": [
      "                      event_timestamp  best_bid_size  best_bid_price  \\\n",
      "0       2023-11-02 08:00:18.477458987            5.0           75.26   \n",
      "1       2023-11-02 08:00:18.484837247            5.0           75.26   \n",
      "2       2023-11-02 08:00:18.504462667            5.0           75.26   \n",
      "3       2023-11-02 08:00:18.526210087          395.0           75.26   \n",
      "4       2023-11-02 08:00:18.526292987          395.0           75.26   \n",
      "...                               ...            ...             ...   \n",
      "116592  2023-11-02 16:30:00.017715246         6160.0           77.13   \n",
      "116593  2023-11-02 16:30:00.018655506        12044.0           77.13   \n",
      "116594  2023-11-02 16:30:00.018715906        12044.0           77.13   \n",
      "116595  2023-11-02 16:30:00.029214066        12044.0           77.13   \n",
      "116596  2023-11-02 16:30:00.121807526            NaN             NaN   \n",
      "\n",
      "        best_ask_price  best_ask_size        market_state  \n",
      "0                75.41         5776.0  CONTINUOUS_TRADING  \n",
      "1                75.44         1556.0  CONTINUOUS_TRADING  \n",
      "2                75.43         4800.0  CONTINUOUS_TRADING  \n",
      "3                75.43         4800.0  CONTINUOUS_TRADING  \n",
      "4                75.42         2242.0  CONTINUOUS_TRADING  \n",
      "...                ...            ...                 ...  \n",
      "116592           77.16        39682.0  CONTINUOUS_TRADING  \n",
      "116593           77.16        39682.0  CONTINUOUS_TRADING  \n",
      "116594           77.16        33848.0  CONTINUOUS_TRADING  \n",
      "116595           77.16        42378.0  CONTINUOUS_TRADING  \n",
      "116596             NaN            NaN  CONTINUOUS_TRADING  \n",
      "\n",
      "[116597 rows x 6 columns]\n"
     ]
    }
   ],
   "source": [
    "import pandas as pd\n",
    "\n",
    "# file path for the CSV file\n",
    "csv_file_path = 'https://raw.githubusercontent.com/datahub83/BMLL/main/test_spread.csv'\n",
    "\n",
    "# Read the CSV file into a pandas DataFrame\n",
    "df = pd.read_csv(csv_file_path)\n",
    "\n",
    "# Display the DataFrame\n",
    "print(df)"
   ]
  },
  {
   "cell_type": "markdown",
   "id": "15d869f5-561d-47f8-bc62-4eef90938ab0",
   "metadata": {},
   "source": [
    "FIRST PART: Using the test_spread.csv.gz find the following values;\n",
    "1.\tMean Spread\n",
    "2.\tTime Weighted Average Spread\n",
    "3.\tVolume Weighted Average Spread\n",
    "4.\tVolatility of the mid price (using a sampling frequency of 1 minute)"
   ]
  },
  {
   "cell_type": "code",
   "execution_count": 2,
   "id": "1f0f260a-eb9a-4cc4-ad66-0e43671a33fc",
   "metadata": {},
   "outputs": [
    {
     "name": "stdout",
     "output_type": "stream",
     "text": [
      "Mean Spread: 0.031973909911146084\n"
     ]
    }
   ],
   "source": [
    "# 1.\tMean Spread\n",
    "\n",
    "df['spread'] = df['best_ask_price'] - df['best_bid_price']\n",
    "\n",
    "# Compute the mean spread\n",
    "mean_spread = df['spread'].mean()\n",
    "\n",
    "print(\"Mean Spread:\", mean_spread)"
   ]
  },
  {
   "cell_type": "code",
   "execution_count": 3,
   "id": "7567f901-66d4-4922-8f5f-36d6a2db9b3d",
   "metadata": {},
   "outputs": [
    {
     "name": "stdout",
     "output_type": "stream",
     "text": [
      "Time Weighted Average Spread (TWAS): 0.03205626435887015\n"
     ]
    }
   ],
   "source": [
    "# 2.\tTime Weighted Average Spread\n",
    "\n",
    "df['event_timestamp'] = pd.to_datetime(df['event_timestamp'])\n",
    "\n",
    "# Sort DataFrame by 'event_timestamp' in ascending order\n",
    "df = df.sort_values(by='event_timestamp')\n",
    "\n",
    "# Calculate time differences between consecutive rows (in seconds)\n",
    "df['time_diff'] = df['event_timestamp'].diff().dt.total_seconds().fillna(0)\n",
    "\n",
    "# Calculate spread for each row\n",
    "df['spread'] = df['best_ask_price'] - df['best_bid_price']\n",
    "\n",
    "# Calculate spread * time_diff for each row\n",
    "df['spread_time'] = df['spread'] * df['time_diff']\n",
    "\n",
    "# Calculate the total time duration\n",
    "total_time = df['time_diff'].sum()\n",
    "\n",
    "# Calculate the Time Weighted Average Spread (TWAS)\n",
    "twas = (df['spread_time'].sum()) / total_time\n",
    "\n",
    "print(\"Time Weighted Average Spread (TWAS):\", twas)"
   ]
  },
  {
   "cell_type": "code",
   "execution_count": 4,
   "id": "7c6d0312-af50-49ad-9f9a-461b75e669bc",
   "metadata": {},
   "outputs": [
    {
     "name": "stdout",
     "output_type": "stream",
     "text": [
      "Volume Weighted Average Spread (VWAS): 0.03292758699113055\n"
     ]
    }
   ],
   "source": [
    "# 3.\tVolume Weighted Average Spread\n",
    "\n",
    "df['event_timestamp'] = pd.to_datetime(df['event_timestamp'])\n",
    "\n",
    "# Sort DataFrame by 'event_timestamp' in ascending order\n",
    "df = df.sort_values(by='event_timestamp')\n",
    "\n",
    "# Calculate time differences between consecutive rows (in seconds)\n",
    "df['time_diff'] = df['event_timestamp'].diff().dt.total_seconds().fillna(0)\n",
    "\n",
    "# Calculate spread for each row\n",
    "df['spread'] = df['best_ask_price'] - df['best_bid_price']\n",
    "\n",
    "# Calculate the spread * trading volume for each row\n",
    "df['spread_volume'] = df['spread'] * df['best_ask_size']\n",
    "\n",
    "# Calculate the total trading volume\n",
    "total_volume = df['best_ask_size'].sum()\n",
    "\n",
    "# Calculate the Volume Weighted Average Spread (VWAS)\n",
    "vwas = (df['spread_volume'].sum()) / total_volume\n",
    "\n",
    "print(\"Volume Weighted Average Spread (VWAS):\", vwas)"
   ]
  },
  {
   "cell_type": "code",
   "execution_count": 5,
   "id": "86732f86-6cc6-4280-b4fe-c2cc10c193ae",
   "metadata": {},
   "outputs": [
    {
     "name": "stdout",
     "output_type": "stream",
     "text": [
      "Volatility of the mid price (1-minute sampling frequency): 0.04365133620574938\n"
     ]
    }
   ],
   "source": [
    "#4.\tVolatility of the mid price (using a sampling frequency of 1 minute)\n",
    "\n",
    "df['event_timestamp'] = pd.to_datetime(df['event_timestamp'])\n",
    "\n",
    "# Set 'event_timestamp' as the index\n",
    "df.set_index('event_timestamp', inplace=True)\n",
    "\n",
    "# Resample the DataFrame to 1-minute intervals and calculate the mid price\n",
    "mid_price = (df['best_bid_price'] + df['best_ask_price']) / 2\n",
    "mid_price_resampled = mid_price.resample('1min').mean()\n",
    "\n",
    "# Calculate the log returns of the mid price\n",
    "log_returns = mid_price_resampled.diff().dropna()\n",
    "\n",
    "# Calculate the standard deviation of the log returns (volatility)\n",
    "volatility = log_returns.std()\n",
    "\n",
    "print(\"Volatility of the mid price (1-minute sampling frequency):\", volatility)"
   ]
  },
  {
   "cell_type": "markdown",
   "id": "6656086b-ca79-4c96-b3ce-dfcb65be5101",
   "metadata": {},
   "source": [
    "SECOND PART: Using the test_trades.csv find the following values;\n",
    "5.\tVWAP for the day for LIT bmll_trade_type trades only\n",
    "6.\tVWAP between 14:00 - 15:00 for LIT bmll_trade_type trades only\n",
    "7.\tAverage notional per bmll_trade_type"
   ]
  },
  {
   "cell_type": "code",
   "execution_count": 6,
   "id": "ebcd2264-3b30-4c40-a54a-bde317ac8b54",
   "metadata": {},
   "outputs": [
    {
     "name": "stdout",
     "output_type": "stream",
     "text": [
      "                 trade_id                trade_timestamp  \\\n",
      "0     1034002182352621680  2023-11-01 17:32:36.702000000   \n",
      "1         873382216205192  2023-11-02 08:00:18.473746000   \n",
      "2         873382216205267  2023-11-02 08:00:18.850717000   \n",
      "3         873382216205268  2023-11-02 08:00:18.851257000   \n",
      "4         873382216205269  2023-11-02 08:00:18.851257000   \n",
      "...                   ...                            ...   \n",
      "9317   613331775096836208  2023-11-02 17:57:19.000000000   \n",
      "9318   462813306178719856  2023-11-02 17:57:23.000000000   \n",
      "9319  1096273978486116464  2023-11-02 18:00:08.000000000   \n",
      "9320   323012670987653232  2023-11-02 18:00:16.000000000   \n",
      "9321   665071017293205616  2023-11-02 18:45:11.000000000   \n",
      "\n",
      "              publication_timestamp aggressor_side     price  execution_size  \\\n",
      "0     2023-11-02 07:15:23.856742733        UNKNOWN  75.13000           40000   \n",
      "1     2023-11-02 08:00:18.477383475        UNKNOWN  75.40000          158559   \n",
      "2     2023-11-02 08:00:18.850782887            BID  75.38000            4253   \n",
      "3     2023-11-02 08:00:18.851340707            BID  75.38000             547   \n",
      "4     2023-11-02 08:00:18.851343687            BID  75.39000            1275   \n",
      "...                             ...            ...       ...             ...   \n",
      "9317  2023-11-02 17:57:32.249521810        UNKNOWN   0.77067           17464   \n",
      "9318  2023-11-02 17:57:35.651311113        UNKNOWN   0.77220          132028   \n",
      "9319  2023-11-02 18:00:35.228663036        UNKNOWN   0.89255           22082   \n",
      "9320  2023-11-02 18:01:06.231030102        UNKNOWN   0.76864            3630   \n",
      "9321  2023-11-02 18:45:11.823880990        UNKNOWN   0.77240           24096   \n",
      "\n",
      "            market_state  sequence_no currency  printable bmll_trade_type  \\\n",
      "0                 CLOSED        47602      GBp       True   SPECIAL_PRICE   \n",
      "1        OPENING_AUCTION       121696      GBp       True      UNCROSSING   \n",
      "2     CONTINUOUS_TRADING            0      GBp       True             LIT   \n",
      "3     CONTINUOUS_TRADING            0      GBp       True             LIT   \n",
      "4     CONTINUOUS_TRADING            0      GBp       True             LIT   \n",
      "...                  ...          ...      ...        ...             ...   \n",
      "9317              CLOSED      1047349      GBP       True   SPECIAL_PRICE   \n",
      "9318              CLOSED      1047377      GBP       True   SPECIAL_PRICE   \n",
      "9319              CLOSED      1050024      EUR       True   SPECIAL_PRICE   \n",
      "9320              CLOSED      1050475      GBP       True   SPECIAL_PRICE   \n",
      "9321              CLOSED      1132815      GBP       True   SPECIAL_PRICE   \n",
      "\n",
      "     trade_action execution_venue  \n",
      "0             NEW            TEST  \n",
      "1             NEW            TEST  \n",
      "2             NEW            TEST  \n",
      "3             NEW            TEST  \n",
      "4             NEW            TEST  \n",
      "...           ...             ...  \n",
      "9317          NEW            TEST  \n",
      "9318          NEW            TEST  \n",
      "9319          NEW            TEST  \n",
      "9320          NEW            TEST  \n",
      "9321          NEW            TEST  \n",
      "\n",
      "[9322 rows x 13 columns]\n"
     ]
    }
   ],
   "source": [
    "import pandas as pd\n",
    "\n",
    "# file path for the CSV file\n",
    "csv_file_path2 = 'https://raw.githubusercontent.com/datahub83/BMLL/main/test_trades.csv'\n",
    "\n",
    "# Read the CSV file into a pandas DataFrame\n",
    "df = pd.read_csv(csv_file_path2)\n",
    "\n",
    "# Display the DataFrame\n",
    "print(df)"
   ]
  },
  {
   "cell_type": "code",
   "execution_count": 7,
   "id": "6d9b8a6a-05c2-40f9-a1f6-0ad9be1f2f21",
   "metadata": {},
   "outputs": [
    {
     "name": "stdout",
     "output_type": "stream",
     "text": [
      "Volume Weighted Average Price (VWAP) for the day for LIT bmll_trade_type trades: 4964.148741862237\n"
     ]
    }
   ],
   "source": [
    "#5.\tVWAP for the day for LIT bmll_trade_type trades only\n",
    "\n",
    "# Filter the DataFrame for LIT bmll_trade_type trades\n",
    "lit_trades = df[df['bmll_trade_type'] == 'LIT'].copy()\n",
    "\n",
    "# Convert currency from GBp to EUR based on the provided exchange rates\n",
    "exchange_rates = pd.read_csv('https://raw.githubusercontent.com/datahub83/BMLL/main/fx_rates.csv') \n",
    "\n",
    "mean_exchange_rate = exchange_rates['GBpEUR'].mean()\n",
    "lit_trades.loc[:, 'price'] *= mean_exchange_rate\n",
    "\n",
    "# Calculate trade value for each trade\n",
    "lit_trades.loc[:, 'trade_value'] = lit_trades['price'] * lit_trades['execution_size']\n",
    "\n",
    "# Calculate cumulative trade value and cumulative trade volume\n",
    "lit_trades.loc[:, 'cumulative_trade_value'] = lit_trades['trade_value'].cumsum()\n",
    "lit_trades.loc[:, 'cumulative_trade_volume'] = lit_trades['execution_size'].cumsum()\n",
    "\n",
    "# Calculate VWAP\n",
    "vwap = lit_trades['cumulative_trade_value'].iloc[-1] / lit_trades['cumulative_trade_volume'].iloc[0]\n",
    "\n",
    "print(\"Volume Weighted Average Price (VWAP) for the day for LIT bmll_trade_type trades:\", vwap)"
   ]
  },
  {
   "cell_type": "code",
   "execution_count": 8,
   "id": "c15ed989-f8eb-4340-9337-49384384d46a",
   "metadata": {},
   "outputs": [
    {
     "name": "stdout",
     "output_type": "stream",
     "text": [
      "Volume Weighted Average Price (VWAP) between 14:00 and 15:00 for LIT bmll_trade_type trades: 76.98892052319027\n"
     ]
    }
   ],
   "source": [
    "# 6. VWAP between 14:00 - 15:00 for LIT bmll_trade_type trades only\n",
    "\n",
    "# Convert trade_timestamp to datetime format\n",
    "df['trade_timestamp'] = pd.to_datetime(df['trade_timestamp'])\n",
    "\n",
    "# Filter the DataFrame to include only LIT bmll_trade_type trades\n",
    "lit_trades = df[df['bmll_trade_type'] == 'LIT']\n",
    "\n",
    "# Filter the DataFrame to include trades between 14:00 and 15:00\n",
    "lit_trades = lit_trades[(lit_trades['trade_timestamp'].dt.hour == 14) & \n",
    "                        (lit_trades['trade_timestamp'].dt.minute >= 0) & \n",
    "                        (lit_trades['trade_timestamp'].dt.minute <= 59)]\n",
    "\n",
    "# Calculate trade value for each trade\n",
    "lit_trades['trade_value'] = lit_trades['price'] * lit_trades['execution_size']\n",
    "\n",
    "# Calculate cumulative trade value and cumulative trade volume\n",
    "lit_trades['cumulative_trade_value'] = lit_trades['trade_value'].cumsum()\n",
    "lit_trades['cumulative_trade_volume'] = lit_trades['execution_size'].cumsum()\n",
    "\n",
    "# Calculate VWAP\n",
    "vwap = lit_trades['cumulative_trade_value'].iloc[-1] / lit_trades['cumulative_trade_volume'].iloc[-1]\n",
    "\n",
    "print(\"Volume Weighted Average Price (VWAP) between 14:00 and 15:00 for LIT bmll_trade_type trades:\", vwap)"
   ]
  },
  {
   "cell_type": "code",
   "execution_count": 9,
   "id": "60d9b9ae-0d43-4e2f-bb73-f35f0ddd6528",
   "metadata": {},
   "outputs": [
    {
     "name": "stdout",
     "output_type": "stream",
     "text": [
      "Average notional per bmll_trade_type:\n",
      "bmll_trade_type\n",
      "BENCHMARK_PRICE    4.408146e+07\n",
      "DARK               6.044831e+05\n",
      "LIT                2.278095e+05\n",
      "OTC                2.133418e+05\n",
      "SPECIAL_PRICE      1.812250e+05\n",
      "UNCROSSING         8.465001e+08\n",
      "Name: notional, dtype: float64\n"
     ]
    }
   ],
   "source": [
    "#7.\tAverage notional per bmll_trade_type\n",
    "\n",
    "# Calculate the notional value for each trade\n",
    "df['notional'] = df['price'] * df['execution_size']\n",
    "\n",
    "# Group the DataFrame by bmll_trade_type and calculate the mean notional for each group\n",
    "average_notional_per_type = df.groupby('bmll_trade_type')['notional'].mean()\n",
    "\n",
    "# Display the average notional per bmll_trade_type\n",
    "print(\"Average notional per bmll_trade_type:\")\n",
    "print(average_notional_per_type)"
   ]
  },
  {
   "cell_type": "code",
   "execution_count": null,
   "id": "04d5fb51-3577-46c8-825c-51868b40f676",
   "metadata": {},
   "outputs": [],
   "source": []
  }
 ],
 "metadata": {
  "kernelspec": {
   "display_name": "Python 3 (ipykernel)",
   "language": "python",
   "name": "python3"
  },
  "language_info": {
   "codemirror_mode": {
    "name": "ipython",
    "version": 3
   },
   "file_extension": ".py",
   "mimetype": "text/x-python",
   "name": "python",
   "nbconvert_exporter": "python",
   "pygments_lexer": "ipython3",
   "version": "3.12.2"
  }
 },
 "nbformat": 4,
 "nbformat_minor": 5
}
